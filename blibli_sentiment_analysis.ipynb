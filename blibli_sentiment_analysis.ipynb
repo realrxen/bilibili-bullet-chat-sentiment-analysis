{
 "cells": [
  {
   "cell_type": "code",
   "execution_count": 1,
   "metadata": {},
   "outputs": [
    {
     "data": {
      "text/html": [
       "<div>\n",
       "<style scoped>\n",
       "    .dataframe tbody tr th:only-of-type {\n",
       "        vertical-align: middle;\n",
       "    }\n",
       "\n",
       "    .dataframe tbody tr th {\n",
       "        vertical-align: top;\n",
       "    }\n",
       "\n",
       "    .dataframe thead th {\n",
       "        text-align: right;\n",
       "    }\n",
       "</style>\n",
       "<table border=\"1\" class=\"dataframe\">\n",
       "  <thead>\n",
       "    <tr style=\"text-align: right;\">\n",
       "      <th></th>\n",
       "      <th>time</th>\n",
       "      <th>content</th>\n",
       "      <th>oid</th>\n",
       "      <th>sender</th>\n",
       "    </tr>\n",
       "  </thead>\n",
       "  <tbody>\n",
       "    <tr>\n",
       "      <th>0</th>\n",
       "      <td>2020-03-11</td>\n",
       "      <td>30年，牙都掉了，不是拔的</td>\n",
       "      <td>157845466</td>\n",
       "      <td>cd19f3e7</td>\n",
       "    </tr>\n",
       "    <tr>\n",
       "      <th>1</th>\n",
       "      <td>2020-03-11</td>\n",
       "      <td>哇宝马耶</td>\n",
       "      <td>157845466</td>\n",
       "      <td>eaaf79f</td>\n",
       "    </tr>\n",
       "    <tr>\n",
       "      <th>2</th>\n",
       "      <td>2020-03-11</td>\n",
       "      <td>一模一样</td>\n",
       "      <td>157845466</td>\n",
       "      <td>716cacf3</td>\n",
       "    </tr>\n",
       "    <tr>\n",
       "      <th>3</th>\n",
       "      <td>2020-03-11</td>\n",
       "      <td>you should be dancing ~HAHA</td>\n",
       "      <td>157845466</td>\n",
       "      <td>ea911e16</td>\n",
       "    </tr>\n",
       "    <tr>\n",
       "      <th>4</th>\n",
       "      <td>2020-03-11</td>\n",
       "      <td>？？？？？？</td>\n",
       "      <td>157845466</td>\n",
       "      <td>31eaa455</td>\n",
       "    </tr>\n",
       "    <tr>\n",
       "      <th>...</th>\n",
       "      <td>...</td>\n",
       "      <td>...</td>\n",
       "      <td>...</td>\n",
       "      <td>...</td>\n",
       "    </tr>\n",
       "    <tr>\n",
       "      <th>292220</th>\n",
       "      <td>2020-05-14</td>\n",
       "      <td>住嘴你这不只 一口了</td>\n",
       "      <td>36031470</td>\n",
       "      <td>fdf5b2ca</td>\n",
       "    </tr>\n",
       "    <tr>\n",
       "      <th>292221</th>\n",
       "      <td>2020-05-21</td>\n",
       "      <td>是你不能吃酸</td>\n",
       "      <td>36031470</td>\n",
       "      <td>9cd0d496</td>\n",
       "    </tr>\n",
       "    <tr>\n",
       "      <th>292222</th>\n",
       "      <td>2020-05-22</td>\n",
       "      <td>这个应该叫挞(ta四声)</td>\n",
       "      <td>36031470</td>\n",
       "      <td>80c2271d</td>\n",
       "    </tr>\n",
       "    <tr>\n",
       "      <th>292223</th>\n",
       "      <td>2020-05-24</td>\n",
       "      <td>呀。杨桃</td>\n",
       "      <td>36031470</td>\n",
       "      <td>4e2c1741</td>\n",
       "    </tr>\n",
       "    <tr>\n",
       "      <th>292224</th>\n",
       "      <td>2020-06-21</td>\n",
       "      <td>魔鬼</td>\n",
       "      <td>36031470</td>\n",
       "      <td>16f547c9</td>\n",
       "    </tr>\n",
       "  </tbody>\n",
       "</table>\n",
       "<p>292225 rows × 4 columns</p>\n",
       "</div>"
      ],
      "text/plain": [
       "              time                      content        oid    sender\n",
       "0       2020-03-11                30年，牙都掉了，不是拔的  157845466  cd19f3e7\n",
       "1       2020-03-11                         哇宝马耶  157845466   eaaf79f\n",
       "2       2020-03-11                         一模一样  157845466  716cacf3\n",
       "3       2020-03-11  you should be dancing ~HAHA  157845466  ea911e16\n",
       "4       2020-03-11                       ？？？？？？  157845466  31eaa455\n",
       "...            ...                          ...        ...       ...\n",
       "292220  2020-05-14                   住嘴你这不只 一口了   36031470  fdf5b2ca\n",
       "292221  2020-05-21                       是你不能吃酸   36031470  9cd0d496\n",
       "292222  2020-05-22                 这个应该叫挞(ta四声)   36031470  80c2271d\n",
       "292223  2020-05-24                         呀。杨桃   36031470  4e2c1741\n",
       "292224  2020-06-21                           魔鬼   36031470  16f547c9\n",
       "\n",
       "[292225 rows x 4 columns]"
      ]
     },
     "execution_count": 1,
     "metadata": {},
     "output_type": "execute_result"
    }
   ],
   "source": [
    "import pandas as pd\n",
    "import numpy as np\n",
    "from datetime import datetime\n",
    "df = pd.read_csv(\"./data/bullet9.csv\", encoding='utf-8')\n",
    "df"
   ]
  },
  {
   "cell_type": "code",
   "execution_count": null,
   "metadata": {},
   "outputs": [],
   "source": [
    "df_null = df.isnull().sum()\n",
    "df_null"
   ]
  },
  {
   "cell_type": "code",
   "execution_count": null,
   "metadata": {},
   "outputs": [],
   "source": [
    "df.info()"
   ]
  },
  {
   "cell_type": "code",
   "execution_count": null,
   "metadata": {},
   "outputs": [],
   "source": [
    "df.describe()"
   ]
  },
  {
   "cell_type": "code",
   "execution_count": null,
   "metadata": {},
   "outputs": [],
   "source": [
    "df['time'] = pd.to_datetime(df['time'],format='%Y-%m-%d')\n",
    "df.info()"
   ]
  },
  {
   "cell_type": "code",
   "execution_count": null,
   "metadata": {},
   "outputs": [],
   "source": [
    "df.head()\n"
   ]
  },
  {
   "cell_type": "code",
   "execution_count": 5,
   "metadata": {},
   "outputs": [],
   "source": [
    "text = df.content.iloc[0]\n",
    "text\n",
    "from snownlp import SnowNLP\n",
    "s = SnowNLP(text)\n"
   ]
  },
  {
   "cell_type": "code",
   "execution_count": 6,
   "metadata": {},
   "outputs": [
    {
     "name": "stdout",
     "output_type": "stream",
     "text": [
      "0.42694346338414424\n",
      "0.4121146154582902\n"
     ]
    }
   ],
   "source": [
    "s1 = SnowNLP(s.sentences[0])\n",
    "s1.sentiments\n",
    "print(s1.sentiments)\n",
    "s2 = SnowNLP(s.sentences[1])\n",
    "s2.sentiments\n",
    "print(s2.sentiments)"
   ]
  },
  {
   "cell_type": "code",
   "execution_count": 7,
   "metadata": {},
   "outputs": [],
   "source": [
    "def get_sentiment_cn(text):\n",
    "    s = SnowNLP(text)\n",
    "    return s.sentiments"
   ]
  },
  {
   "cell_type": "code",
   "execution_count": 8,
   "metadata": {},
   "outputs": [],
   "source": [
    "df[\"sentiment\"] = df.content.apply(get_sentiment_cn)"
   ]
  },
  {
   "cell_type": "code",
   "execution_count": 9,
   "metadata": {},
   "outputs": [
    {
     "data": {
      "text/html": [
       "<div>\n",
       "<style scoped>\n",
       "    .dataframe tbody tr th:only-of-type {\n",
       "        vertical-align: middle;\n",
       "    }\n",
       "\n",
       "    .dataframe tbody tr th {\n",
       "        vertical-align: top;\n",
       "    }\n",
       "\n",
       "    .dataframe thead th {\n",
       "        text-align: right;\n",
       "    }\n",
       "</style>\n",
       "<table border=\"1\" class=\"dataframe\">\n",
       "  <thead>\n",
       "    <tr style=\"text-align: right;\">\n",
       "      <th></th>\n",
       "      <th>time</th>\n",
       "      <th>content</th>\n",
       "      <th>oid</th>\n",
       "      <th>sender</th>\n",
       "      <th>sentiment</th>\n",
       "    </tr>\n",
       "  </thead>\n",
       "  <tbody>\n",
       "    <tr>\n",
       "      <th>0</th>\n",
       "      <td>2020-03-11</td>\n",
       "      <td>30年，牙都掉了，不是拔的</td>\n",
       "      <td>157845466</td>\n",
       "      <td>cd19f3e7</td>\n",
       "      <td>0.182504</td>\n",
       "    </tr>\n",
       "    <tr>\n",
       "      <th>1</th>\n",
       "      <td>2020-03-11</td>\n",
       "      <td>哇宝马耶</td>\n",
       "      <td>157845466</td>\n",
       "      <td>eaaf79f</td>\n",
       "      <td>0.230828</td>\n",
       "    </tr>\n",
       "    <tr>\n",
       "      <th>2</th>\n",
       "      <td>2020-03-11</td>\n",
       "      <td>一模一样</td>\n",
       "      <td>157845466</td>\n",
       "      <td>716cacf3</td>\n",
       "      <td>0.355932</td>\n",
       "    </tr>\n",
       "    <tr>\n",
       "      <th>3</th>\n",
       "      <td>2020-03-11</td>\n",
       "      <td>you should be dancing ~HAHA</td>\n",
       "      <td>157845466</td>\n",
       "      <td>ea911e16</td>\n",
       "      <td>0.473767</td>\n",
       "    </tr>\n",
       "    <tr>\n",
       "      <th>4</th>\n",
       "      <td>2020-03-11</td>\n",
       "      <td>？？？？？？</td>\n",
       "      <td>157845466</td>\n",
       "      <td>31eaa455</td>\n",
       "      <td>0.090909</td>\n",
       "    </tr>\n",
       "  </tbody>\n",
       "</table>\n",
       "</div>"
      ],
      "text/plain": [
       "         time                      content        oid    sender  sentiment\n",
       "0  2020-03-11                30年，牙都掉了，不是拔的  157845466  cd19f3e7   0.182504\n",
       "1  2020-03-11                         哇宝马耶  157845466   eaaf79f   0.230828\n",
       "2  2020-03-11                         一模一样  157845466  716cacf3   0.355932\n",
       "3  2020-03-11  you should be dancing ~HAHA  157845466  ea911e16   0.473767\n",
       "4  2020-03-11                       ？？？？？？  157845466  31eaa455   0.090909"
      ]
     },
     "execution_count": 9,
     "metadata": {},
     "output_type": "execute_result"
    }
   ],
   "source": [
    "df.head()"
   ]
  },
  {
   "cell_type": "code",
   "execution_count": null,
   "metadata": {},
   "outputs": [],
   "source": [
    "df.info()"
   ]
  },
  {
   "cell_type": "code",
   "execution_count": null,
   "metadata": {},
   "outputs": [],
   "source": [
    "df.sentiment.mean()"
   ]
  },
  {
   "cell_type": "code",
   "execution_count": null,
   "metadata": {},
   "outputs": [],
   "source": [
    "df.sentiment.median()"
   ]
  },
  {
   "cell_type": "code",
   "execution_count": null,
   "metadata": {},
   "outputs": [],
   "source": [
    "# from ggplot import *\n",
    "# ggplot(aes(x=\"time\", y=\"sentiment\"), data=df) + geom_point() + geom_line(color = 'blue') + scale_x_time(labels = date_format(\"%Y-%m-%d\"))"
   ]
  },
  {
   "cell_type": "code",
   "execution_count": null,
   "metadata": {},
   "outputs": [],
   "source": [
    "import matplotlib as mpl \n",
    "import matplotlib.pyplot as plt \n",
    "mpl.rc('axes', labelsize=14) \n",
    "mpl.rc('xtick', labelsize=12) \n",
    "mpl.rc('ytick', labelsize=12)\n",
    "plt.rcParams['font.sans-serif']=['SimHei'] #用来正常显示中文标签 \n",
    "plt.rcParams['axes.unicode_minus']=False #用来正常显示负号 "
   ]
  },
  {
   "cell_type": "code",
   "execution_count": null,
   "metadata": {},
   "outputs": [],
   "source": [
    "inputfile = './bullet9.csv' #视频弹幕等汇总文件 \n",
    "outputfile = './bullet_content_new.txt' #评论提取后保存路径 \n",
    "data = pd.read_csv(inputfile, encoding = 'utf-8') \n",
    "data = data[[u'content']]\n",
    "data.to_csv(outputfile, index = False, header = False, encoding = 'utf-8')"
   ]
  },
  {
   "cell_type": "code",
   "execution_count": null,
   "metadata": {},
   "outputs": [],
   "source": [
    "import jieba\n",
    "from imageio import imread\n",
    "from wordcloud import WordCloud,ImageColorGenerator\n",
    "import matplotlib.pyplot as plt"
   ]
  },
  {
   "cell_type": "code",
   "execution_count": null,
   "metadata": {},
   "outputs": [],
   "source": [
    "from PIL import Image\n",
    "image = np.array(Image.open('./faceicon.png'))\n",
    "font = './simhei.ttf'"
   ]
  },
  {
   "cell_type": "code",
   "execution_count": null,
   "metadata": {},
   "outputs": [],
   "source": [
    "with open('./bullet_content_process_1.txt', 'r', encoding='utf-8') as f:\n",
    "    word = (f.read())\n",
    "    f.close()\n",
    "# 获取WordCloud对象\n",
    "wc = WordCloud(background_color='white',\n",
    "              max_words=1000,\n",
    "              mask=image,\n",
    "              scale=120,\n",
    "              font_path = font,\n",
    "              random_state = 15 )\n",
    "# jieba分词，形成有空格的字符串\n",
    "word_list = []\n",
    "word_generator = jieba.cut(word,cut_all=False)\n",
    "for word in word_generator:\n",
    "    word_list.append(word)\n",
    "text = ' '.join(word_list)\n",
    "\n",
    "wc.generate(text)\n",
    "plt.figure(figsize=(20,10))\n",
    "plt.axis('off')\n",
    "plt.imshow(wc)"
   ]
  },
  {
   "cell_type": "code",
   "execution_count": null,
   "metadata": {},
   "outputs": [],
   "source": [
    "#获取背景图片的色彩\n",
    "image_colors = ImageColorGenerator(image)\n",
    "plt.figure(figsize=(20,10))\n",
    "plt.imshow(wc.recolor(color_func=image_colors))\n",
    "plt.axis('off')\n",
    "plt.show()\n"
   ]
  },
  {
   "cell_type": "code",
   "execution_count": null,
   "metadata": {},
   "outputs": [],
   "source": [
    "#载入停用词\n",
    "f=open('./stopwords.txt',encoding='utf-8')\n",
    "stopwords = f.readlines()  \n",
    "stopwords=[i.replace(\"\\n\",\"\") for i in stopwords]  \n",
    "\n",
    "from collections import defaultdict  \n",
    "\n",
    "#载入情感词  \n",
    "f1 =open(\"BosonNLP_sentiment_score.txt\",encoding='utf-8')  \n",
    "senList = f1.readlines()  \n",
    "senDict = defaultdict()  \n",
    "for s in senList:  \n",
    "    s=s.replace(\"\\n\",\"\")\n",
    "    print(float(s.split(' ')[1]))\n",
    "    print(len(senDict))\n",
    "    senDict[s.split(' ')[0]] = float(s.split(' ')[1])  \n",
    "\n",
    "#载入否定词  \n",
    "f2=open(\"notDict.txt\")  \n",
    "notList = f2.readlines()  \n",
    "notList=[x.replace(\"\\n\",\"\") for x in notList if x != '']  \n",
    "\n",
    "#载入程度副词  \n",
    "f3=open(\"degreeDict.txt\",encoding='utf-8')  \n",
    "degreeList = f3.readlines()  \n",
    "degreeDict = defaultdict()  \n",
    "for d in degreeList:  \n",
    "    degreeDict[d.split(',')[0]] = float(d.split(',')[1])\n",
    "\n",
    "#将文本数据进行分词，载入列表\n",
    "def sent2word(sentence):\n",
    "    seglist = jieba.cut(sentence)\n",
    "    segResult = []\n",
    "    for w in seglist:\n",
    "        segResult.append(w)\n",
    "    newSent = []\n",
    "    #如果词汇是在停用词中，则过滤掉\n",
    "    for word in segResult:\n",
    "        if word in stopwords:\n",
    "            continue\n",
    "        else:\n",
    "            newSent.append(word)\n",
    "    return newSent\n",
    "\n",
    "t = []\n",
    "t.append(sent2word(text_all))\n",
    "\n",
    "#评分方法\n",
    "def word_score(word_list):\n",
    "    id = []\n",
    "    for i in word_list:\n",
    "        if i in senDict.keys():\n",
    "            id.append(1)\n",
    "        elif i in notList:\n",
    "            id.append(2)\n",
    "        elif i in degreeDict.keys():\n",
    "            id.append(3)\n",
    "    \n",
    "    word_nake = []\n",
    "    for i in word_list:\n",
    "        if i in senDict.keys():\n",
    "            word_nake.append(i)\n",
    "        elif i in notList:\n",
    "            word_nake.append(i)\n",
    "        elif i in degreeDict.keys():\n",
    "            word_nake.append(i)\n",
    "    \n",
    "    score = 0\n",
    "    w = 1\n",
    "    score0 = 0\n",
    "    for i in range(len(id)):\n",
    "        if id[i] == 1:\n",
    "            score0 = w*senDict[word_nake[i]]\n",
    "            w = 1\n",
    "        elif id[i] == 2:\n",
    "            w = -1\n",
    "        elif id[i] == 3:\n",
    "            w = w*degreeDict[word_nake[i]]\n",
    "        score = score+score0\n",
    "        score0 = 0\n",
    "    return score\n"
   ]
  },
  {
   "cell_type": "code",
   "execution_count": null,
   "metadata": {},
   "outputs": [],
   "source": []
  },
  {
   "cell_type": "code",
   "execution_count": null,
   "metadata": {},
   "outputs": [],
   "source": []
  },
  {
   "cell_type": "code",
   "execution_count": null,
   "metadata": {},
   "outputs": [],
   "source": []
  },
  {
   "cell_type": "code",
   "execution_count": null,
   "metadata": {},
   "outputs": [],
   "source": []
  }
 ],
 "metadata": {
  "kernelspec": {
   "display_name": "Python 3 (ipykernel)",
   "language": "python",
   "name": "python3"
  },
  "language_info": {
   "codemirror_mode": {
    "name": "ipython",
    "version": 3
   },
   "file_extension": ".py",
   "mimetype": "text/x-python",
   "name": "python",
   "nbconvert_exporter": "python",
   "pygments_lexer": "ipython3",
   "version": "3.7.6"
  }
 },
 "nbformat": 4,
 "nbformat_minor": 4
}
